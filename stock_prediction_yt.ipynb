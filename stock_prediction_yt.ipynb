{
  "nbformat": 4,
  "nbformat_minor": 0,
  "metadata": {
    "colab": {
      "provenance": []
    },
    "kernelspec": {
      "name": "python3",
      "display_name": "Python 3"
    },
    "language_info": {
      "name": "python"
    },
    "gpuClass": "standard",
    "accelerator": "GPU"
  },
  "cells": [
    {
      "cell_type": "code",
      "execution_count": 1,
      "metadata": {
        "id": "Wubeussyqy0L",
        "colab": {
          "base_uri": "https://localhost:8080/"
        },
        "outputId": "5e6ca319-2cc7-42bd-b3bc-33ee739b3ac2"
      },
      "outputs": [
        {
          "output_type": "stream",
          "name": "stdout",
          "text": [
            "Looking in indexes: https://pypi.org/simple, https://us-python.pkg.dev/colab-wheels/public/simple/\n",
            "Requirement already satisfied: yfinance in /usr/local/lib/python3.8/dist-packages (0.2.12)\n",
            "Requirement already satisfied: multitasking>=0.0.7 in /usr/local/lib/python3.8/dist-packages (from yfinance) (0.0.11)\n",
            "Requirement already satisfied: pytz>=2022.5 in /usr/local/lib/python3.8/dist-packages (from yfinance) (2022.7.1)\n",
            "Requirement already satisfied: requests>=2.26 in /usr/local/lib/python3.8/dist-packages (from yfinance) (2.28.2)\n",
            "Requirement already satisfied: numpy>=1.16.5 in /usr/local/lib/python3.8/dist-packages (from yfinance) (1.21.6)\n",
            "Requirement already satisfied: beautifulsoup4>=4.11.1 in /usr/local/lib/python3.8/dist-packages (from yfinance) (4.11.2)\n",
            "Requirement already satisfied: html5lib>=1.1 in /usr/local/lib/python3.8/dist-packages (from yfinance) (1.1)\n",
            "Requirement already satisfied: cryptography>=3.3.2 in /usr/local/lib/python3.8/dist-packages (from yfinance) (39.0.1)\n",
            "Requirement already satisfied: frozendict>=2.3.4 in /usr/local/lib/python3.8/dist-packages (from yfinance) (2.3.5)\n",
            "Requirement already satisfied: lxml>=4.9.1 in /usr/local/lib/python3.8/dist-packages (from yfinance) (4.9.2)\n",
            "Requirement already satisfied: pandas>=1.3.0 in /usr/local/lib/python3.8/dist-packages (from yfinance) (1.3.5)\n",
            "Requirement already satisfied: appdirs>=1.4.4 in /usr/local/lib/python3.8/dist-packages (from yfinance) (1.4.4)\n",
            "Requirement already satisfied: soupsieve>1.2 in /usr/local/lib/python3.8/dist-packages (from beautifulsoup4>=4.11.1->yfinance) (2.4)\n",
            "Requirement already satisfied: cffi>=1.12 in /usr/local/lib/python3.8/dist-packages (from cryptography>=3.3.2->yfinance) (1.15.1)\n",
            "Requirement already satisfied: webencodings in /usr/local/lib/python3.8/dist-packages (from html5lib>=1.1->yfinance) (0.5.1)\n",
            "Requirement already satisfied: six>=1.9 in /usr/local/lib/python3.8/dist-packages (from html5lib>=1.1->yfinance) (1.15.0)\n",
            "Requirement already satisfied: python-dateutil>=2.7.3 in /usr/local/lib/python3.8/dist-packages (from pandas>=1.3.0->yfinance) (2.8.2)\n",
            "Requirement already satisfied: certifi>=2017.4.17 in /usr/local/lib/python3.8/dist-packages (from requests>=2.26->yfinance) (2022.12.7)\n",
            "Requirement already satisfied: idna<4,>=2.5 in /usr/local/lib/python3.8/dist-packages (from requests>=2.26->yfinance) (2.10)\n",
            "Requirement already satisfied: urllib3<1.27,>=1.21.1 in /usr/local/lib/python3.8/dist-packages (from requests>=2.26->yfinance) (1.24.3)\n",
            "Requirement already satisfied: charset-normalizer<4,>=2 in /usr/local/lib/python3.8/dist-packages (from requests>=2.26->yfinance) (3.0.1)\n",
            "Requirement already satisfied: pycparser in /usr/local/lib/python3.8/dist-packages (from cffi>=1.12->cryptography>=3.3.2->yfinance) (2.21)\n",
            "Looking in indexes: https://pypi.org/simple, https://us-python.pkg.dev/colab-wheels/public/simple/\n",
            "Requirement already satisfied: pandas-datareader in /usr/local/lib/python3.8/dist-packages (0.9.0)\n",
            "Requirement already satisfied: lxml in /usr/local/lib/python3.8/dist-packages (from pandas-datareader) (4.9.2)\n",
            "Requirement already satisfied: requests>=2.19.0 in /usr/local/lib/python3.8/dist-packages (from pandas-datareader) (2.28.2)\n",
            "Requirement already satisfied: pandas>=0.23 in /usr/local/lib/python3.8/dist-packages (from pandas-datareader) (1.3.5)\n",
            "Requirement already satisfied: pytz>=2017.3 in /usr/local/lib/python3.8/dist-packages (from pandas>=0.23->pandas-datareader) (2022.7.1)\n",
            "Requirement already satisfied: numpy>=1.17.3 in /usr/local/lib/python3.8/dist-packages (from pandas>=0.23->pandas-datareader) (1.21.6)\n",
            "Requirement already satisfied: python-dateutil>=2.7.3 in /usr/local/lib/python3.8/dist-packages (from pandas>=0.23->pandas-datareader) (2.8.2)\n",
            "Requirement already satisfied: charset-normalizer<4,>=2 in /usr/local/lib/python3.8/dist-packages (from requests>=2.19.0->pandas-datareader) (3.0.1)\n",
            "Requirement already satisfied: certifi>=2017.4.17 in /usr/local/lib/python3.8/dist-packages (from requests>=2.19.0->pandas-datareader) (2022.12.7)\n",
            "Requirement already satisfied: urllib3<1.27,>=1.21.1 in /usr/local/lib/python3.8/dist-packages (from requests>=2.19.0->pandas-datareader) (1.24.3)\n",
            "Requirement already satisfied: idna<4,>=2.5 in /usr/local/lib/python3.8/dist-packages (from requests>=2.19.0->pandas-datareader) (2.10)\n",
            "Requirement already satisfied: six>=1.5 in /usr/local/lib/python3.8/dist-packages (from python-dateutil>=2.7.3->pandas>=0.23->pandas-datareader) (1.15.0)\n"
          ]
        }
      ],
      "source": [
        "!pip install yfinance\n",
        "!pip install pandas-datareader\n",
        "\n",
        "import datetime as dt\n",
        "import math\n",
        "import pandas_datareader as web\n",
        "import numpy as np\n",
        "import pandas as pd\n",
        "from sklearn.preprocessing import MinMaxScaler\n",
        "from keras.models import Sequential\n",
        "from keras.layers import Dense, LSTM, Dropout\n",
        "from keras.callbacks import EarlyStopping\n",
        "from keras.optimizers import Adam\n",
        "import matplotlib.pyplot as plt\n",
        "import yfinance as yf\n",
        "from pandas_datareader import data as pdr"
      ]
    },
    {
      "cell_type": "code",
      "source": [
        "plt.style.use('fivethirtyeight')\n",
        "my_ticker = 'AAPL'\n",
        "days_train = 30\n",
        "start_date = dt.datetime(2008, 1, 1)\n",
        "end_date = dt.datetime(2023, 1, 1)\n",
        "# The last day is not included"
      ],
      "metadata": {
        "id": "PGKIWDuNuyY9"
      },
      "execution_count": 2,
      "outputs": []
    },
    {
      "cell_type": "code",
      "source": [
        "# 1st way\n",
        "df = yf.download(my_ticker, start=start_date, end=end_date)\n",
        "\n",
        "# 2nd way\n",
        "# df = web.DataReader(my_ticker, data_source='yahoo', start=start_date, end=end_date)\n",
        "\n",
        "# 3rd way\n",
        "# yf.pdr_override()\n",
        "# df = pdr.get_data_yahoo(my_ticker, start=start_date, end=end_date)\n",
        "\n",
        "df"
      ],
      "metadata": {
        "colab": {
          "base_uri": "https://localhost:8080/",
          "height": 473
        },
        "id": "gFCnhG2SsPc4",
        "outputId": "eda2a447-7a68-45cf-8b70-d5df685bd239"
      },
      "execution_count": 3,
      "outputs": [
        {
          "output_type": "stream",
          "name": "stdout",
          "text": [
            "\r[*********************100%***********************]  1 of 1 completed\n"
          ]
        },
        {
          "output_type": "execute_result",
          "data": {
            "text/plain": [
              "                  Open        High         Low       Close   Adj Close  \\\n",
              "Date                                                                     \n",
              "2008-01-02    7.116786    7.152143    6.876786    6.958571    5.922568   \n",
              "2008-01-03    6.978929    7.049643    6.881786    6.961786    5.925304   \n",
              "2008-01-04    6.837500    6.892857    6.388929    6.430357    5.472994   \n",
              "2008-01-07    6.473214    6.557143    6.079643    6.344286    5.399737   \n",
              "2008-01-08    6.433571    6.516429    6.100000    6.116071    5.205501   \n",
              "...                ...         ...         ...         ...         ...   \n",
              "2022-12-23  130.919998  132.419998  129.639999  131.860001  131.658981   \n",
              "2022-12-27  131.380005  131.410004  128.720001  130.029999  129.831772   \n",
              "2022-12-28  129.669998  131.029999  125.870003  126.040001  125.847855   \n",
              "2022-12-29  127.989998  130.479996  127.730003  129.610001  129.412415   \n",
              "2022-12-30  128.410004  129.949997  127.430000  129.929993  129.731918   \n",
              "\n",
              "                Volume  \n",
              "Date                    \n",
              "2008-01-02  1079178800  \n",
              "2008-01-03   842066400  \n",
              "2008-01-04  1455832000  \n",
              "2008-01-07  2072193200  \n",
              "2008-01-08  1523816000  \n",
              "...                ...  \n",
              "2022-12-23    63814900  \n",
              "2022-12-27    69007800  \n",
              "2022-12-28    85438400  \n",
              "2022-12-29    75703700  \n",
              "2022-12-30    76960600  \n",
              "\n",
              "[3777 rows x 6 columns]"
            ],
            "text/html": [
              "\n",
              "  <div id=\"df-a1959d2f-ff7e-468b-b744-d47898da6fbb\">\n",
              "    <div class=\"colab-df-container\">\n",
              "      <div>\n",
              "<style scoped>\n",
              "    .dataframe tbody tr th:only-of-type {\n",
              "        vertical-align: middle;\n",
              "    }\n",
              "\n",
              "    .dataframe tbody tr th {\n",
              "        vertical-align: top;\n",
              "    }\n",
              "\n",
              "    .dataframe thead th {\n",
              "        text-align: right;\n",
              "    }\n",
              "</style>\n",
              "<table border=\"1\" class=\"dataframe\">\n",
              "  <thead>\n",
              "    <tr style=\"text-align: right;\">\n",
              "      <th></th>\n",
              "      <th>Open</th>\n",
              "      <th>High</th>\n",
              "      <th>Low</th>\n",
              "      <th>Close</th>\n",
              "      <th>Adj Close</th>\n",
              "      <th>Volume</th>\n",
              "    </tr>\n",
              "    <tr>\n",
              "      <th>Date</th>\n",
              "      <th></th>\n",
              "      <th></th>\n",
              "      <th></th>\n",
              "      <th></th>\n",
              "      <th></th>\n",
              "      <th></th>\n",
              "    </tr>\n",
              "  </thead>\n",
              "  <tbody>\n",
              "    <tr>\n",
              "      <th>2008-01-02</th>\n",
              "      <td>7.116786</td>\n",
              "      <td>7.152143</td>\n",
              "      <td>6.876786</td>\n",
              "      <td>6.958571</td>\n",
              "      <td>5.922568</td>\n",
              "      <td>1079178800</td>\n",
              "    </tr>\n",
              "    <tr>\n",
              "      <th>2008-01-03</th>\n",
              "      <td>6.978929</td>\n",
              "      <td>7.049643</td>\n",
              "      <td>6.881786</td>\n",
              "      <td>6.961786</td>\n",
              "      <td>5.925304</td>\n",
              "      <td>842066400</td>\n",
              "    </tr>\n",
              "    <tr>\n",
              "      <th>2008-01-04</th>\n",
              "      <td>6.837500</td>\n",
              "      <td>6.892857</td>\n",
              "      <td>6.388929</td>\n",
              "      <td>6.430357</td>\n",
              "      <td>5.472994</td>\n",
              "      <td>1455832000</td>\n",
              "    </tr>\n",
              "    <tr>\n",
              "      <th>2008-01-07</th>\n",
              "      <td>6.473214</td>\n",
              "      <td>6.557143</td>\n",
              "      <td>6.079643</td>\n",
              "      <td>6.344286</td>\n",
              "      <td>5.399737</td>\n",
              "      <td>2072193200</td>\n",
              "    </tr>\n",
              "    <tr>\n",
              "      <th>2008-01-08</th>\n",
              "      <td>6.433571</td>\n",
              "      <td>6.516429</td>\n",
              "      <td>6.100000</td>\n",
              "      <td>6.116071</td>\n",
              "      <td>5.205501</td>\n",
              "      <td>1523816000</td>\n",
              "    </tr>\n",
              "    <tr>\n",
              "      <th>...</th>\n",
              "      <td>...</td>\n",
              "      <td>...</td>\n",
              "      <td>...</td>\n",
              "      <td>...</td>\n",
              "      <td>...</td>\n",
              "      <td>...</td>\n",
              "    </tr>\n",
              "    <tr>\n",
              "      <th>2022-12-23</th>\n",
              "      <td>130.919998</td>\n",
              "      <td>132.419998</td>\n",
              "      <td>129.639999</td>\n",
              "      <td>131.860001</td>\n",
              "      <td>131.658981</td>\n",
              "      <td>63814900</td>\n",
              "    </tr>\n",
              "    <tr>\n",
              "      <th>2022-12-27</th>\n",
              "      <td>131.380005</td>\n",
              "      <td>131.410004</td>\n",
              "      <td>128.720001</td>\n",
              "      <td>130.029999</td>\n",
              "      <td>129.831772</td>\n",
              "      <td>69007800</td>\n",
              "    </tr>\n",
              "    <tr>\n",
              "      <th>2022-12-28</th>\n",
              "      <td>129.669998</td>\n",
              "      <td>131.029999</td>\n",
              "      <td>125.870003</td>\n",
              "      <td>126.040001</td>\n",
              "      <td>125.847855</td>\n",
              "      <td>85438400</td>\n",
              "    </tr>\n",
              "    <tr>\n",
              "      <th>2022-12-29</th>\n",
              "      <td>127.989998</td>\n",
              "      <td>130.479996</td>\n",
              "      <td>127.730003</td>\n",
              "      <td>129.610001</td>\n",
              "      <td>129.412415</td>\n",
              "      <td>75703700</td>\n",
              "    </tr>\n",
              "    <tr>\n",
              "      <th>2022-12-30</th>\n",
              "      <td>128.410004</td>\n",
              "      <td>129.949997</td>\n",
              "      <td>127.430000</td>\n",
              "      <td>129.929993</td>\n",
              "      <td>129.731918</td>\n",
              "      <td>76960600</td>\n",
              "    </tr>\n",
              "  </tbody>\n",
              "</table>\n",
              "<p>3777 rows × 6 columns</p>\n",
              "</div>\n",
              "      <button class=\"colab-df-convert\" onclick=\"convertToInteractive('df-a1959d2f-ff7e-468b-b744-d47898da6fbb')\"\n",
              "              title=\"Convert this dataframe to an interactive table.\"\n",
              "              style=\"display:none;\">\n",
              "        \n",
              "  <svg xmlns=\"http://www.w3.org/2000/svg\" height=\"24px\"viewBox=\"0 0 24 24\"\n",
              "       width=\"24px\">\n",
              "    <path d=\"M0 0h24v24H0V0z\" fill=\"none\"/>\n",
              "    <path d=\"M18.56 5.44l.94 2.06.94-2.06 2.06-.94-2.06-.94-.94-2.06-.94 2.06-2.06.94zm-11 1L8.5 8.5l.94-2.06 2.06-.94-2.06-.94L8.5 2.5l-.94 2.06-2.06.94zm10 10l.94 2.06.94-2.06 2.06-.94-2.06-.94-.94-2.06-.94 2.06-2.06.94z\"/><path d=\"M17.41 7.96l-1.37-1.37c-.4-.4-.92-.59-1.43-.59-.52 0-1.04.2-1.43.59L10.3 9.45l-7.72 7.72c-.78.78-.78 2.05 0 2.83L4 21.41c.39.39.9.59 1.41.59.51 0 1.02-.2 1.41-.59l7.78-7.78 2.81-2.81c.8-.78.8-2.07 0-2.86zM5.41 20L4 18.59l7.72-7.72 1.47 1.35L5.41 20z\"/>\n",
              "  </svg>\n",
              "      </button>\n",
              "      \n",
              "  <style>\n",
              "    .colab-df-container {\n",
              "      display:flex;\n",
              "      flex-wrap:wrap;\n",
              "      gap: 12px;\n",
              "    }\n",
              "\n",
              "    .colab-df-convert {\n",
              "      background-color: #E8F0FE;\n",
              "      border: none;\n",
              "      border-radius: 50%;\n",
              "      cursor: pointer;\n",
              "      display: none;\n",
              "      fill: #1967D2;\n",
              "      height: 32px;\n",
              "      padding: 0 0 0 0;\n",
              "      width: 32px;\n",
              "    }\n",
              "\n",
              "    .colab-df-convert:hover {\n",
              "      background-color: #E2EBFA;\n",
              "      box-shadow: 0px 1px 2px rgba(60, 64, 67, 0.3), 0px 1px 3px 1px rgba(60, 64, 67, 0.15);\n",
              "      fill: #174EA6;\n",
              "    }\n",
              "\n",
              "    [theme=dark] .colab-df-convert {\n",
              "      background-color: #3B4455;\n",
              "      fill: #D2E3FC;\n",
              "    }\n",
              "\n",
              "    [theme=dark] .colab-df-convert:hover {\n",
              "      background-color: #434B5C;\n",
              "      box-shadow: 0px 1px 3px 1px rgba(0, 0, 0, 0.15);\n",
              "      filter: drop-shadow(0px 1px 2px rgba(0, 0, 0, 0.3));\n",
              "      fill: #FFFFFF;\n",
              "    }\n",
              "  </style>\n",
              "\n",
              "      <script>\n",
              "        const buttonEl =\n",
              "          document.querySelector('#df-a1959d2f-ff7e-468b-b744-d47898da6fbb button.colab-df-convert');\n",
              "        buttonEl.style.display =\n",
              "          google.colab.kernel.accessAllowed ? 'block' : 'none';\n",
              "\n",
              "        async function convertToInteractive(key) {\n",
              "          const element = document.querySelector('#df-a1959d2f-ff7e-468b-b744-d47898da6fbb');\n",
              "          const dataTable =\n",
              "            await google.colab.kernel.invokeFunction('convertToInteractive',\n",
              "                                                     [key], {});\n",
              "          if (!dataTable) return;\n",
              "\n",
              "          const docLinkHtml = 'Like what you see? Visit the ' +\n",
              "            '<a target=\"_blank\" href=https://colab.research.google.com/notebooks/data_table.ipynb>data table notebook</a>'\n",
              "            + ' to learn more about interactive tables.';\n",
              "          element.innerHTML = '';\n",
              "          dataTable['output_type'] = 'display_data';\n",
              "          await google.colab.output.renderOutput(dataTable, element);\n",
              "          const docLink = document.createElement('div');\n",
              "          docLink.innerHTML = docLinkHtml;\n",
              "          element.appendChild(docLink);\n",
              "        }\n",
              "      </script>\n",
              "    </div>\n",
              "  </div>\n",
              "  "
            ]
          },
          "metadata": {},
          "execution_count": 3
        }
      ]
    },
    {
      "cell_type": "code",
      "source": [
        "df.shape"
      ],
      "metadata": {
        "colab": {
          "base_uri": "https://localhost:8080/"
        },
        "id": "wZFop7s5gRFo",
        "outputId": "c26a44bf-974c-4ad3-ceab-1c9cebf85b86"
      },
      "execution_count": 4,
      "outputs": [
        {
          "output_type": "execute_result",
          "data": {
            "text/plain": [
              "(3777, 6)"
            ]
          },
          "metadata": {},
          "execution_count": 4
        }
      ]
    },
    {
      "cell_type": "code",
      "source": [
        "plt.figure(figsize=(16, 8))\n",
        "plt.title('Close Price History')\n",
        "plt.plot(df['Close'])\n",
        "plt.xlabel('Date', fontsize=18)\n",
        "plt.ylabel('Close Price USD ($)', fontsize=18)\n",
        "plt.show()"
      ],
      "metadata": {
        "colab": {
          "base_uri": "https://localhost:8080/",
          "height": 558
        },
        "id": "xVu0KWOqgeJr",
        "outputId": "f3eb8981-cf83-4cb4-e84d-8161f6a87f95"
      },
      "execution_count": 5,
      "outputs": [
        {
          "output_type": "display_data",
          "data": {
            "text/plain": [
              "<Figure size 1152x576 with 1 Axes>"
            ],
            "image/png": "[encoded data removed]"
          },
          "metadata": {}
        }
      ]
    },
    {
      "cell_type": "code",
      "source": [
        "data = df.filter(['Close'])\n",
        "dataset = data.values\n",
        "# Training set would be 80% of the data\n",
        "# Other 20% for testing set\n",
        "training_data_len = math.ceil(len(dataset) * .8)\n",
        "training_data_len"
      ],
      "metadata": {
        "colab": {
          "base_uri": "https://localhost:8080/"
        },
        "id": "fZbviulZh8uZ",
        "outputId": "8dde297c-9620-4859-a1e6-79fd85191485"
      },
      "execution_count": 6,
      "outputs": [
        {
          "output_type": "execute_result",
          "data": {
            "text/plain": [
              "3022"
            ]
          },
          "metadata": {},
          "execution_count": 6
        }
      ]
    },
    {
      "cell_type": "code",
      "source": [
        "# create a new instance of the MinMaxScaler class with a feature range between 0 and 1\n",
        "scaler = MinMaxScaler(feature_range=(0, 1))\n",
        "\n",
        "# normalize the dataset using the scaler's fit_transform method\n",
        "scaled_data = scaler.fit_transform(dataset)\n",
        "\n",
        "scaled_data"
      ],
      "metadata": {
        "colab": {
          "base_uri": "https://localhost:8080/"
        },
        "id": "H8OymqpujfGB",
        "outputId": "a47a30fa-753b-4482-e91c-f6aa38b6893c"
      },
      "execution_count": 7,
      "outputs": [
        {
          "output_type": "execute_result",
          "data": {
            "text/plain": [
              "array([[0.02324395],\n",
              "       [0.02326189],\n",
              "       [0.02029661],\n",
              "       ...,\n",
              "       [0.68769731],\n",
              "       [0.70761728],\n",
              "       [0.70940278]])"
            ]
          },
          "metadata": {},
          "execution_count": 7
        }
      ]
    },
    {
      "cell_type": "code",
      "source": [
        "# Select the first training_data_len rows of the scaled_data array to use as training data\n",
        "# 20% of dataset\n",
        "train_data = scaled_data[0:training_data_len, :]\n",
        "\n",
        "# Create empty arrays to store the input x and output y data for the model\n",
        "x_train = []\n",
        "y_train = []\n",
        "\n",
        "# Iterate over the train_data array, creating training examples of length days_train\n",
        "# days_train is set to the number of days of historical stock price data you want to use to train your LSTM model\n",
        "for i in range(days_train, len(train_data)):\n",
        "    x_train.append(train_data[i - days_train: i, 0])\n",
        "    y_train.append(train_data[i, 0])\n",
        "    # To understand what happening, let's print the input and output arrays for the first three training examples\n",
        "    if i <= days_train + 2:\n",
        "        print(x_train)\n",
        "        print(y_train)\n",
        "        print()"
      ],
      "metadata": {
        "colab": {
          "base_uri": "https://localhost:8080/"
        },
        "id": "xAkzvkFsshcv",
        "outputId": "a4c3e40f-f789-4b08-f595-3446bdf880bd"
      },
      "execution_count": 8,
      "outputs": [
        {
          "output_type": "stream",
          "name": "stdout",
          "text": [
            "[array([0.02324395, 0.02326189, 0.02029661, 0.01981635, 0.01854295,\n",
            "       0.02016708, 0.01989207, 0.01882991, 0.02004353, 0.01810255,\n",
            "       0.01622932, 0.01647841, 0.01657208, 0.0154322 , 0.01213014,\n",
            "       0.01143864, 0.01032467, 0.01032467, 0.01062956, 0.0107571 ,\n",
            "       0.01139082, 0.01106997, 0.01065149, 0.01019514, 0.00872844,\n",
            "       0.00857699, 0.00942193, 0.01021307, 0.00929838, 0.01020311])]\n",
            "[0.009816506328808655]\n",
            "\n",
            "[array([0.02324395, 0.02326189, 0.02029661, 0.01981635, 0.01854295,\n",
            "       0.02016708, 0.01989207, 0.01882991, 0.02004353, 0.01810255,\n",
            "       0.01622932, 0.01647841, 0.01657208, 0.0154322 , 0.01213014,\n",
            "       0.01143864, 0.01032467, 0.01032467, 0.01062956, 0.0107571 ,\n",
            "       0.01139082, 0.01106997, 0.01065149, 0.01019514, 0.00872844,\n",
            "       0.00857699, 0.00942193, 0.01021307, 0.00929838, 0.01020311]), array([0.02326189, 0.02029661, 0.01981635, 0.01854295, 0.02016708,\n",
            "       0.01989207, 0.01882991, 0.02004353, 0.01810255, 0.01622932,\n",
            "       0.01647841, 0.01657208, 0.0154322 , 0.01213014, 0.01143864,\n",
            "       0.01032467, 0.01032467, 0.01062956, 0.0107571 , 0.01139082,\n",
            "       0.01106997, 0.01065149, 0.01019514, 0.00872844, 0.00857699,\n",
            "       0.00942193, 0.01021307, 0.00929838, 0.01020311, 0.00981651])]\n",
            "[0.009816506328808655, 0.00925254066810846]\n",
            "\n",
            "[array([0.02324395, 0.02326189, 0.02029661, 0.01981635, 0.01854295,\n",
            "       0.02016708, 0.01989207, 0.01882991, 0.02004353, 0.01810255,\n",
            "       0.01622932, 0.01647841, 0.01657208, 0.0154322 , 0.01213014,\n",
            "       0.01143864, 0.01032467, 0.01032467, 0.01062956, 0.0107571 ,\n",
            "       0.01139082, 0.01106997, 0.01065149, 0.01019514, 0.00872844,\n",
            "       0.00857699, 0.00942193, 0.01021307, 0.00929838, 0.01020311]), array([0.02326189, 0.02029661, 0.01981635, 0.01854295, 0.02016708,\n",
            "       0.01989207, 0.01882991, 0.02004353, 0.01810255, 0.01622932,\n",
            "       0.01647841, 0.01657208, 0.0154322 , 0.01213014, 0.01143864,\n",
            "       0.01032467, 0.01032467, 0.01062956, 0.0107571 , 0.01139082,\n",
            "       0.01106997, 0.01065149, 0.01019514, 0.00872844, 0.00857699,\n",
            "       0.00942193, 0.01021307, 0.00929838, 0.01020311, 0.00981651]), array([0.02029661, 0.01981635, 0.01854295, 0.02016708, 0.01989207,\n",
            "       0.01882991, 0.02004353, 0.01810255, 0.01622932, 0.01647841,\n",
            "       0.01657208, 0.0154322 , 0.01213014, 0.01143864, 0.01032467,\n",
            "       0.01032467, 0.01062956, 0.0107571 , 0.01139082, 0.01106997,\n",
            "       0.01065149, 0.01019514, 0.00872844, 0.00857699, 0.00942193,\n",
            "       0.01021307, 0.00929838, 0.01020311, 0.00981651, 0.00925254])]\n",
            "[0.009816506328808655, 0.00925254066810846, 0.008764308238363381]\n",
            "\n"
          ]
        }
      ]
    },
    {
      "cell_type": "code",
      "source": [
        "x_train, y_train = np.array(x_train), np.array(y_train)"
      ],
      "metadata": {
        "id": "kzmRJx9S8Ey-"
      },
      "execution_count": 9,
      "outputs": []
    },
    {
      "cell_type": "code",
      "source": [
        "# Reshape the x_train array to add a third dimension for the single feature (closing price)\n",
        "x_train = np.reshape(x_train, (x_train.shape[0], x_train.shape[1], 1))\n",
        "\n",
        "x_train.shape"
      ],
      "metadata": {
        "colab": {
          "base_uri": "https://localhost:8080/"
        },
        "id": "4k_yU3DY8QyW",
        "outputId": "d3f7334b-33d5-4ec5-999e-5d7a12a326af"
      },
      "execution_count": 10,
      "outputs": [
        {
          "output_type": "execute_result",
          "data": {
            "text/plain": [
              "(2992, 30, 1)"
            ]
          },
          "metadata": {},
          "execution_count": 10
        }
      ]
    },
    {
      "cell_type": "code",
      "source": [
        "#initializing the model \n",
        "model = Sequential()\n",
        "\n",
        "# First Input layer and LSTM layer\n",
        "model.add(LSTM(units=50,return_sequences=True,input_shape=(x_train.shape[1],1)))\n",
        "\n",
        "# model.add(LSTM(units=50,return_sequences=True))\n",
        "\n",
        "# we won't use return sequence true in last layers as we don't want to use the previous output\n",
        "model.add(LSTM(units=50))\n",
        "\n",
        "# model.add(Dense(25))\n",
        "\n",
        "# Output layer, we won't pass any activation as it's a continuous value model\n",
        "model.add(Dense(units=1))"
      ],
      "metadata": {
        "id": "yeDj5Pas8oSO"
      },
      "execution_count": 11,
      "outputs": []
    },
    {
      "cell_type": "code",
      "source": [
        "# model = Sequential()\n",
        "# model.add(LSTM(units=50, return_sequences=True, input_shape=(x_train.shape[1], 1)))\n",
        "# model.add(Dropout(0.2))\n",
        "# model.add(LSTM(units=50, return_sequences=True))\n",
        "# model.add(Dropout(0.2))\n",
        "# model.add(LSTM(units=50, return_sequences=True))\n",
        "# model.add(Dropout(0.2))\n",
        "# model.add(LSTM(units=50))\n",
        "# model.add(Dropout(0.2))\n",
        "# model.add(Dense(units=1))"
      ],
      "metadata": {
        "id": "24qUyDLUbssE"
      },
      "execution_count": 12,
      "outputs": []
    },
    {
      "cell_type": "code",
      "source": [
        "# # Initialize the model\n",
        "# model = Sequential()\n",
        "\n",
        "# # Add the first input layer and LSTM layer\n",
        "# model.add(LSTM(units=50, return_sequences=True, input_shape=(x_train.shape[1], 1)))\n",
        "\n",
        "# model.add(LSTM(units=50))\n",
        "\n",
        "# # Add the output layer with a linear activation function\n",
        "# model.add(Dense(units=1, activation='tanh'))\n",
        "\n",
        "# # Set the optimizer, loss function, and metrics\n",
        "# optimizer = Adam(learning_rate=0.001)\n",
        "# loss = 'mean_squared_error'\n",
        "# metrics = ['mean_squared_error', 'mean_absolute_error']"
      ],
      "metadata": {
        "id": "c245hT_dku2Y"
      },
      "execution_count": 13,
      "outputs": []
    },
    {
      "cell_type": "code",
      "source": [
        "# Use mean squared error loss\n",
        "model.compile(optimizer='adam', loss='mean_squared_error')\n",
        "\n",
        "model.summary()"
      ],
      "metadata": {
        "id": "ABlI9RGP95OY",
        "colab": {
          "base_uri": "https://localhost:8080/"
        },
        "outputId": "ffee8f1c-eb62-4592-c5ec-c1bbeb027552"
      },
      "execution_count": 14,
      "outputs": [
        {
          "output_type": "stream",
          "name": "stdout",
          "text": [
            "Model: \"sequential\"\n",
            "_________________________________________________________________\n",
            " Layer (type)                Output Shape              Param #   \n",
            "=================================================================\n",
            " lstm (LSTM)                 (None, 30, 50)            10400     \n",
            "                                                                 \n",
            " lstm_1 (LSTM)               (None, 50)                20200     \n",
            "                                                                 \n",
            " dense (Dense)               (None, 1)                 51        \n",
            "                                                                 \n",
            "=================================================================\n",
            "Total params: 30,651\n",
            "Trainable params: 30,651\n",
            "Non-trainable params: 0\n",
            "_________________________________________________________________\n"
          ]
        }
      ]
    },
    {
      "cell_type": "code",
      "source": [
        "# Use early stopping to prevent overfitting\n",
        "early_stopping = EarlyStopping(monitor='loss', patience=3)"
      ],
      "metadata": {
        "id": "YMpFdrEwLo9h"
      },
      "execution_count": 15,
      "outputs": []
    },
    {
      "cell_type": "code",
      "source": [
        "test_data = scaled_data[training_data_len - days_train:, :]\n",
        "x_test = []\n",
        "y_test = dataset[training_data_len:, :]\n",
        "for i in range(days_train, len(test_data)):\n",
        "    x_test.append(test_data[i - days_train: i, 0])"
      ],
      "metadata": {
        "id": "rIHiPpizMRLs"
      },
      "execution_count": 16,
      "outputs": []
    },
    {
      "cell_type": "code",
      "source": [
        "x_test = np.array(x_test)"
      ],
      "metadata": {
        "id": "nJAl4lEqMTiz"
      },
      "execution_count": 17,
      "outputs": []
    },
    {
      "cell_type": "code",
      "source": [
        "x_test = np.reshape(x_test, (x_test.shape[0], x_test.shape[1], 1))\n",
        "x_test.shape"
      ],
      "metadata": {
        "colab": {
          "base_uri": "https://localhost:8080/"
        },
        "id": "ap6LNzz0MVdb",
        "outputId": "15fc6757-3106-47d9-b326-af6e3b87e8bb"
      },
      "execution_count": 18,
      "outputs": [
        {
          "output_type": "execute_result",
          "data": {
            "text/plain": [
              "(755, 30, 1)"
            ]
          },
          "metadata": {},
          "execution_count": 18
        }
      ]
    },
    {
      "cell_type": "code",
      "source": [
        "def train_and_evaluate(x_train, y_train, x_test, y_test):\n",
        "    best_rmse = float(\"inf\")\n",
        "    best_batch_size = -1\n",
        "    best_history = None\n",
        "    for batch_size in [2**n for n in range(0, 11)]:\n",
        "            # Use early stopping to prevent overfitting\n",
        "            early_stopping = EarlyStopping(monitor='loss', patience=3)\n",
        "\n",
        "            # Train the model for the given number of epochs and batch size\n",
        "            history = model.fit(x_train, y_train, batch_size=batch_size, epochs=1000, callbacks=[early_stopping], verbose=0)\n",
        "\n",
        "            # Make predictions on the test data and calculate the RMSE\n",
        "            predictions = model.predict(x_test)\n",
        "            predictions = scaler.inverse_transform(predictions)\n",
        "            rmse = np.sqrt(np.mean(((predictions - y_test) ** 2)))\n",
        "\n",
        "            # Print the RMSE for this combination of batch size and epochs\n",
        "            print(f\"Batch size: {batch_size}, RMSE: {rmse}\")\n",
        "\n",
        "            # Update the best RMSE and the corresponding batch size and epochs if the current RMSE is less than the best RMSE\n",
        "            if rmse < best_rmse:\n",
        "                best_rmse = rmse\n",
        "                best_batch_size = batch_size\n",
        "                best_history = history\n",
        "\n",
        "    # Print the best combination of batch size and epochs along with the corresponding RMSE\n",
        "    print(f\"Best Batch size: {best_batch_size}, Best RMSE: {best_rmse}\")\n",
        "\n",
        "    return best_history, best_batch_size\n",
        "\n",
        "history, _ = train_and_evaluate(x_train, y_train, x_test, y_test)"
      ],
      "metadata": {
        "colab": {
          "base_uri": "https://localhost:8080/"
        },
        "id": "IsFwyVKOLyh-",
        "outputId": "cc0287b8-421d-48fd-9f20-177bafe1dbd1"
      },
      "execution_count": 19,
      "outputs": [
        {
          "output_type": "stream",
          "name": "stdout",
          "text": [
            "24/24 [==============================] - 1s 4ms/step\n",
            "Batch size: 1, RMSE: 4.971833792608272\n",
            "24/24 [==============================] - 0s 3ms/step\n",
            "Batch size: 2, RMSE: 3.5042912013977343\n",
            "24/24 [==============================] - 0s 4ms/step\n",
            "Batch size: 4, RMSE: 3.354566416390778\n",
            "24/24 [==============================] - 0s 3ms/step\n",
            "Batch size: 8, RMSE: 3.741046507082066\n",
            "24/24 [==============================] - 0s 4ms/step\n",
            "Batch size: 16, RMSE: 3.619705202773622\n",
            "24/24 [==============================] - 0s 5ms/step\n",
            "Batch size: 32, RMSE: 3.0880062135096806\n",
            "24/24 [==============================] - 0s 3ms/step\n",
            "Batch size: 64, RMSE: 3.025372542301056\n",
            "24/24 [==============================] - 0s 4ms/step\n",
            "Batch size: 128, RMSE: 3.140498032153605\n",
            "24/24 [==============================] - 0s 4ms/step\n",
            "Batch size: 256, RMSE: 3.077673954184345\n",
            "24/24 [==============================] - 0s 3ms/step\n",
            "Batch size: 512, RMSE: 3.133464674324238\n",
            "24/24 [==============================] - 0s 4ms/step\n",
            "Batch size: 1024, RMSE: 3.1846493107570137\n",
            "Best Batch size: 64, Best RMSE: 3.025372542301056\n"
          ]
        }
      ]
    },
    {
      "cell_type": "code",
      "source": [
        "model.metrics_names"
      ],
      "metadata": {
        "colab": {
          "base_uri": "https://localhost:8080/"
        },
        "id": "zkM2fxRH862t",
        "outputId": "370a912b-ed93-4fde-f65a-43ae6cb9caa6"
      },
      "execution_count": 20,
      "outputs": [
        {
          "output_type": "execute_result",
          "data": {
            "text/plain": [
              "['loss']"
            ]
          },
          "metadata": {},
          "execution_count": 20
        }
      ]
    },
    {
      "cell_type": "code",
      "source": [
        "predictions = model.predict(x_test)\n",
        "predictions = scaler.inverse_transform(predictions)\n",
        "len(predictions)"
      ],
      "metadata": {
        "id": "99n3ImQoAVC8",
        "colab": {
          "base_uri": "https://localhost:8080/"
        },
        "outputId": "9f2533e6-851b-4cd0-f1a9-b862194360bb"
      },
      "execution_count": 21,
      "outputs": [
        {
          "output_type": "stream",
          "name": "stdout",
          "text": [
            "24/24 [==============================] - 0s 4ms/step\n"
          ]
        },
        {
          "output_type": "execute_result",
          "data": {
            "text/plain": [
              "755"
            ]
          },
          "metadata": {},
          "execution_count": 21
        }
      ]
    },
    {
      "cell_type": "code",
      "source": [
        "rmse = np.sqrt(np.mean(((predictions - y_test) ** 2)))\n",
        "rmse"
      ],
      "metadata": {
        "id": "GOl6FLXCCPLq",
        "colab": {
          "base_uri": "https://localhost:8080/"
        },
        "outputId": "39024340-4f83-4e7e-eb34-d21929a328b2"
      },
      "execution_count": 22,
      "outputs": [
        {
          "output_type": "execute_result",
          "data": {
            "text/plain": [
              "3.1846493107570137"
            ]
          },
          "metadata": {},
          "execution_count": 22
        }
      ]
    },
    {
      "cell_type": "code",
      "source": [
        "train = data[:training_data_len]\n",
        "valid = data[training_data_len:]\n",
        "valid['Predictions'] = predictions\n",
        "plt.figure(figsize=(16, 8))\n",
        "plt.title('Model')\n",
        "plt.xlabel('Date', fontsize=18)\n",
        "plt.ylabel('Close Price USD ($)', fontsize=18)\n",
        "plt.plot(train['Close'])\n",
        "plt.plot(valid[['Close', 'Predictions']])\n",
        "plt.legend(['Train', 'Validation', 'Predictions'], loc='lower right')\n",
        "plt.show()"
      ],
      "metadata": {
        "id": "cqemhte_CpUH",
        "colab": {
          "base_uri": "https://localhost:8080/",
          "height": 662
        },
        "outputId": "fa8f85de-4685-4565-c1af-c079bc3a9664"
      },
      "execution_count": 23,
      "outputs": [
        {
          "output_type": "stream",
          "name": "stderr",
          "text": [
            "<ipython-input-23-407bfe881fa6>:3: SettingWithCopyWarning: \n",
            "A value is trying to be set on a copy of a slice from a DataFrame.\n",
            "Try using .loc[row_indexer,col_indexer] = value instead\n",
            "\n",
            "See the caveats in the documentation: https://pandas.pydata.org/pandas-docs/stable/user_guide/indexing.html#returning-a-view-versus-a-copy\n",
            "  valid['Predictions'] = predictions\n"
          ]
        },
        {
          "output_type": "display_data",
          "data": {
            "text/plain": [
              "<Figure size 1152x576 with 1 Axes>"
            ],
            "image/png": "[encoded data removed]"
          },
          "metadata": {}
        }
      ]
    },
    {
      "cell_type": "code",
      "source": [
        "valid"
      ],
      "metadata": {
        "id": "YLwBvH4_D8Zz",
        "colab": {
          "base_uri": "https://localhost:8080/",
          "height": 455
        },
        "outputId": "7b126707-91ac-40a8-ef5b-91ab9401501b"
      },
      "execution_count": 24,
      "outputs": [
        {
          "output_type": "execute_result",
          "data": {
            "text/plain": [
              "                 Close  Predictions\n",
              "Date                               \n",
              "2020-01-03   74.357498    75.251671\n",
              "2020-01-06   74.949997    74.525703\n",
              "2020-01-07   74.597504    75.346916\n",
              "2020-01-08   75.797501    74.962318\n",
              "2020-01-09   77.407501    76.184662\n",
              "...                ...          ...\n",
              "2022-12-23  131.860001   134.272263\n",
              "2022-12-27  130.029999   134.414230\n",
              "2022-12-28  126.040001   132.446274\n",
              "2022-12-29  129.610001   129.336395\n",
              "2022-12-30  129.929993   131.940598\n",
              "\n",
              "[755 rows x 2 columns]"
            ],
            "text/html": [
              "\n",
              "  <div id=\"df-4f1b27a6-c317-4be3-956a-890b7aea5206\">\n",
              "    <div class=\"colab-df-container\">\n",
              "      <div>\n",
              "<style scoped>\n",
              "    .dataframe tbody tr th:only-of-type {\n",
              "        vertical-align: middle;\n",
              "    }\n",
              "\n",
              "    .dataframe tbody tr th {\n",
              "        vertical-align: top;\n",
              "    }\n",
              "\n",
              "    .dataframe thead th {\n",
              "        text-align: right;\n",
              "    }\n",
              "</style>\n",
              "<table border=\"1\" class=\"dataframe\">\n",
              "  <thead>\n",
              "    <tr style=\"text-align: right;\">\n",
              "      <th></th>\n",
              "      <th>Close</th>\n",
              "      <th>Predictions</th>\n",
              "    </tr>\n",
              "    <tr>\n",
              "      <th>Date</th>\n",
              "      <th></th>\n",
              "      <th></th>\n",
              "    </tr>\n",
              "  </thead>\n",
              "  <tbody>\n",
              "    <tr>\n",
              "      <th>2020-01-03</th>\n",
              "      <td>74.357498</td>\n",
              "      <td>75.251671</td>\n",
              "    </tr>\n",
              "    <tr>\n",
              "      <th>2020-01-06</th>\n",
              "      <td>74.949997</td>\n",
              "      <td>74.525703</td>\n",
              "    </tr>\n",
              "    <tr>\n",
              "      <th>2020-01-07</th>\n",
              "      <td>74.597504</td>\n",
              "      <td>75.346916</td>\n",
              "    </tr>\n",
              "    <tr>\n",
              "      <th>2020-01-08</th>\n",
              "      <td>75.797501</td>\n",
              "      <td>74.962318</td>\n",
              "    </tr>\n",
              "    <tr>\n",
              "      <th>2020-01-09</th>\n",
              "      <td>77.407501</td>\n",
              "      <td>76.184662</td>\n",
              "    </tr>\n",
              "    <tr>\n",
              "      <th>...</th>\n",
              "      <td>...</td>\n",
              "      <td>...</td>\n",
              "    </tr>\n",
              "    <tr>\n",
              "      <th>2022-12-23</th>\n",
              "      <td>131.860001</td>\n",
              "      <td>134.272263</td>\n",
              "    </tr>\n",
              "    <tr>\n",
              "      <th>2022-12-27</th>\n",
              "      <td>130.029999</td>\n",
              "      <td>134.414230</td>\n",
              "    </tr>\n",
              "    <tr>\n",
              "      <th>2022-12-28</th>\n",
              "      <td>126.040001</td>\n",
              "      <td>132.446274</td>\n",
              "    </tr>\n",
              "    <tr>\n",
              "      <th>2022-12-29</th>\n",
              "      <td>129.610001</td>\n",
              "      <td>129.336395</td>\n",
              "    </tr>\n",
              "    <tr>\n",
              "      <th>2022-12-30</th>\n",
              "      <td>129.929993</td>\n",
              "      <td>131.940598</td>\n",
              "    </tr>\n",
              "  </tbody>\n",
              "</table>\n",
              "<p>755 rows × 2 columns</p>\n",
              "</div>\n",
              "      <button class=\"colab-df-convert\" onclick=\"convertToInteractive('df-4f1b27a6-c317-4be3-956a-890b7aea5206')\"\n",
              "              title=\"Convert this dataframe to an interactive table.\"\n",
              "              style=\"display:none;\">\n",
              "        \n",
              "  <svg xmlns=\"http://www.w3.org/2000/svg\" height=\"24px\"viewBox=\"0 0 24 24\"\n",
              "       width=\"24px\">\n",
              "    <path d=\"M0 0h24v24H0V0z\" fill=\"none\"/>\n",
              "    <path d=\"M18.56 5.44l.94 2.06.94-2.06 2.06-.94-2.06-.94-.94-2.06-.94 2.06-2.06.94zm-11 1L8.5 8.5l.94-2.06 2.06-.94-2.06-.94L8.5 2.5l-.94 2.06-2.06.94zm10 10l.94 2.06.94-2.06 2.06-.94-2.06-.94-.94-2.06-.94 2.06-2.06.94z\"/><path d=\"M17.41 7.96l-1.37-1.37c-.4-.4-.92-.59-1.43-.59-.52 0-1.04.2-1.43.59L10.3 9.45l-7.72 7.72c-.78.78-.78 2.05 0 2.83L4 21.41c.39.39.9.59 1.41.59.51 0 1.02-.2 1.41-.59l7.78-7.78 2.81-2.81c.8-.78.8-2.07 0-2.86zM5.41 20L4 18.59l7.72-7.72 1.47 1.35L5.41 20z\"/>\n",
              "  </svg>\n",
              "      </button>\n",
              "      \n",
              "  <style>\n",
              "    .colab-df-container {\n",
              "      display:flex;\n",
              "      flex-wrap:wrap;\n",
              "      gap: 12px;\n",
              "    }\n",
              "\n",
              "    .colab-df-convert {\n",
              "      background-color: #E8F0FE;\n",
              "      border: none;\n",
              "      border-radius: 50%;\n",
              "      cursor: pointer;\n",
              "      display: none;\n",
              "      fill: #1967D2;\n",
              "      height: 32px;\n",
              "      padding: 0 0 0 0;\n",
              "      width: 32px;\n",
              "    }\n",
              "\n",
              "    .colab-df-convert:hover {\n",
              "      background-color: #E2EBFA;\n",
              "      box-shadow: 0px 1px 2px rgba(60, 64, 67, 0.3), 0px 1px 3px 1px rgba(60, 64, 67, 0.15);\n",
              "      fill: #174EA6;\n",
              "    }\n",
              "\n",
              "    [theme=dark] .colab-df-convert {\n",
              "      background-color: #3B4455;\n",
              "      fill: #D2E3FC;\n",
              "    }\n",
              "\n",
              "    [theme=dark] .colab-df-convert:hover {\n",
              "      background-color: #434B5C;\n",
              "      box-shadow: 0px 1px 3px 1px rgba(0, 0, 0, 0.15);\n",
              "      filter: drop-shadow(0px 1px 2px rgba(0, 0, 0, 0.3));\n",
              "      fill: #FFFFFF;\n",
              "    }\n",
              "  </style>\n",
              "\n",
              "      <script>\n",
              "        const buttonEl =\n",
              "          document.querySelector('#df-4f1b27a6-c317-4be3-956a-890b7aea5206 button.colab-df-convert');\n",
              "        buttonEl.style.display =\n",
              "          google.colab.kernel.accessAllowed ? 'block' : 'none';\n",
              "\n",
              "        async function convertToInteractive(key) {\n",
              "          const element = document.querySelector('#df-4f1b27a6-c317-4be3-956a-890b7aea5206');\n",
              "          const dataTable =\n",
              "            await google.colab.kernel.invokeFunction('convertToInteractive',\n",
              "                                                     [key], {});\n",
              "          if (!dataTable) return;\n",
              "\n",
              "          const docLinkHtml = 'Like what you see? Visit the ' +\n",
              "            '<a target=\"_blank\" href=https://colab.research.google.com/notebooks/data_table.ipynb>data table notebook</a>'\n",
              "            + ' to learn more about interactive tables.';\n",
              "          element.innerHTML = '';\n",
              "          dataTable['output_type'] = 'display_data';\n",
              "          await google.colab.output.renderOutput(dataTable, element);\n",
              "          const docLink = document.createElement('div');\n",
              "          docLink.innerHTML = docLinkHtml;\n",
              "          element.appendChild(docLink);\n",
              "        }\n",
              "      </script>\n",
              "    </div>\n",
              "  </div>\n",
              "  "
            ]
          },
          "metadata": {},
          "execution_count": 24
        }
      ]
    },
    {
      "cell_type": "code",
      "source": [
        "# Define start and end dates for prediction\n",
        "# I don't know, but model fails when it reaches one third of predicting days\n",
        "# So I would like to predict 120 days and I set days_to_predict to 45\n",
        "days_to_predict = 180\n",
        "days_to_predict  = int(days_to_predict * 1.5)\n",
        "start_date_pred = end_date + dt.timedelta(days=1)\n",
        "end_date_pred = end_date + dt.timedelta(days=days_to_predict)\n",
        "\n",
        "# Download stock data for prediction period\n",
        "apple_quote_pred = yf.download(my_ticker, start=start_date_pred, end=end_date_pred)\n",
        "\n",
        "# Extract close prices and normalize them\n",
        "close_prices_pred = apple_quote_pred.filter(['Close']).values\n",
        "close_prices_pred_scaled = scaler.transform(close_prices_pred)\n",
        "\n",
        "# Create a list to store predicted prices and a counter for successful predictions\n",
        "predicted_prices = []\n",
        "num_success = 0\n",
        "\n",
        "# Use the last 45 days of actual stock prices to predict the next days_to_predict days\n",
        "for i in range(days_to_predict):\n",
        "    X_test = close_prices_pred_scaled[i:i+days_train]\n",
        "    X_test = np.array(X_test)\n",
        "    X_test = np.reshape(X_test, (1, X_test.shape[0], 1))\n",
        "    try:\n",
        "        pred_price = model.predict(X_test)\n",
        "        pred_price = scaler.inverse_transform(pred_price)\n",
        "        predicted_prices.append(pred_price[0][0])\n",
        "        num_success += 1\n",
        "    except:\n",
        "        print(f\"Failed to predict day {i+1}.\")\n",
        "        break\n",
        "    \n",
        "# Print the predicted prices and number of successful predictions\n",
        "print(f\"Predicted prices: {predicted_prices}\")\n",
        "print(f\"Successfully predicted {num_success} out of {days_to_predict} days.\")"
      ],
      "metadata": {
        "colab": {
          "base_uri": "https://localhost:8080/"
        },
        "id": "zLbOJUTSSLnJ",
        "outputId": "5198259e-4107-4c95-ca10-8c8c03e6db1a"
      },
      "execution_count": 29,
      "outputs": [
        {
          "output_type": "stream",
          "name": "stdout",
          "text": [
            "[*********************100%***********************]  1 of 1 completed\n",
            "1/1 [==============================] - 0s 47ms/step\n",
            "1/1 [==============================] - 0s 82ms/step\n",
            "1/1 [==============================] - 0s 161ms/step\n",
            "1/1 [==============================] - 0s 147ms/step\n",
            "1/1 [==============================] - 0s 123ms/step\n",
            "1/1 [==============================] - 0s 71ms/step\n",
            "1/1 [==============================] - 0s 93ms/step\n",
            "1/1 [==============================] - 0s 96ms/step\n",
            "1/1 [==============================] - 0s 110ms/step\n",
            "1/1 [==============================] - 0s 114ms/step\n",
            "1/1 [==============================] - 0s 109ms/step\n",
            "1/1 [==============================] - 0s 69ms/step\n",
            "1/1 [==============================] - 0s 45ms/step\n",
            "1/1 [==============================] - 0s 21ms/step\n",
            "1/1 [==============================] - 0s 23ms/step\n",
            "1/1 [==============================] - 0s 23ms/step\n",
            "1/1 [==============================] - 0s 24ms/step\n",
            "1/1 [==============================] - 0s 23ms/step\n",
            "1/1 [==============================] - 0s 23ms/step\n",
            "1/1 [==============================] - 0s 23ms/step\n",
            "1/1 [==============================] - 0s 23ms/step\n",
            "1/1 [==============================] - 0s 21ms/step\n",
            "1/1 [==============================] - 0s 26ms/step\n",
            "1/1 [==============================] - 0s 24ms/step\n",
            "1/1 [==============================] - 0s 23ms/step\n",
            "1/1 [==============================] - 0s 25ms/step\n",
            "1/1 [==============================] - 0s 23ms/step\n",
            "1/1 [==============================] - 0s 33ms/step\n",
            "1/1 [==============================] - 0s 23ms/step\n",
            "1/1 [==============================] - 0s 24ms/step\n",
            "1/1 [==============================] - 0s 26ms/step\n",
            "1/1 [==============================] - 0s 27ms/step\n",
            "1/1 [==============================] - 0s 22ms/step\n",
            "Failed to predict day 34.\n",
            "Predicted prices: [153.9647, 155.94621, 154.5773, 154.33542, 154.34271, 154.35207, 154.36406, 154.37961, 154.3991, 154.42369, 154.45444, 154.49194, 154.53767, 154.59402, 154.66273, 154.7439, 154.83607, 154.93953, 155.05397, 155.16592, 155.27165, 155.34961, 155.36874, 155.31071, 155.0864, 154.60112, 153.85255, 152.26627, 150.62772, 145.19832, 145.19914, 122.00393, 151.78934]\n",
            "Successfully predicted 33 out of 270 days.\n"
          ]
        }
      ]
    },
    {
      "cell_type": "code",
      "source": [
        "# Plot the actual and predicted stock prices on the same graph\n",
        "plt.figure(figsize=(16, 8))\n",
        "plt.title('Actual vs Predicted Stock Prices')\n",
        "plt.xlabel('Date', fontsize=18)\n",
        "plt.ylabel('Close Price USD ($)', fontsize=18)\n",
        "plt.plot(apple_quote_pred.index, close_prices_pred, label='Actual')\n",
        "plt.plot(apple_quote_pred.index[-num_success:], predicted_prices, label='Predicted')\n",
        "plt.legend()\n",
        "plt.show()"
      ],
      "metadata": {
        "colab": {
          "base_uri": "https://localhost:8080/",
          "height": 558
        },
        "id": "2myC6mm_WJAH",
        "outputId": "b049cf4a-5851-4f16-8750-9a37775110fc"
      },
      "execution_count": 30,
      "outputs": [
        {
          "output_type": "display_data",
          "data": {
            "text/plain": [
              "<Figure size 1152x576 with 1 Axes>"
            ],
            "image/png": "[encoded data removed]"
          },
          "metadata": {}
        }
      ]
    }
  ]
}